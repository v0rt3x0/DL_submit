{
  "cells": [
    {
      "cell_type": "markdown",
      "metadata": {
        "id": "view-in-github",
        "colab_type": "text"
      },
      "source": [
        "<a href=\"https://colab.research.google.com/github/v0rt3x0/DL_submit/blob/main/model.ipynb\" target=\"_parent\"><img src=\"https://colab.research.google.com/assets/colab-badge.svg\" alt=\"Open In Colab\"/></a>"
      ]
    },
    {
      "cell_type": "code",
      "execution_count": null,
      "metadata": {
        "id": "c7ce724a"
      },
      "outputs": [],
      "source": [
        "import torch\n",
        "import torch.nn as nn\n",
        "from torch.nn import Conv2d\n",
        "from torch.nn import MaxPool2d\n",
        "from torch.nn import ConvTranspose2d\n",
        "from torch.nn import MSELoss\n",
        "from torch import concat\n",
        "import numpy as np\n",
        "from torch import optim\n",
        "from PIL import Image\n",
        "import os\n",
        "print(torch.__version__)\n",
        "print(Image.__version__)\n",
        "!python --version\n"
      ],
      "id": "c7ce724a"
    },
    {
      "cell_type": "code",
      "source": [
        "print(np.__version__)"
      ],
      "metadata": {
        "id": "csPlRxV0-is4"
      },
      "id": "csPlRxV0-is4",
      "execution_count": null,
      "outputs": []
    },
    {
      "cell_type": "code",
      "execution_count": null,
      "metadata": {
        "id": "6TI4vOw1854I"
      },
      "outputs": [],
      "source": [
        "from google.colab import drive\n",
        "drive.mount('/content/drive')"
      ],
      "id": "6TI4vOw1854I"
    },
    {
      "cell_type": "code",
      "execution_count": null,
      "metadata": {
        "id": "4604f397"
      },
      "outputs": [],
      "source": [
        "#The model has total 3 components. A decomposition network. A reflectance restoration network and an illumination adjustment network. Each is a deep network on its own. I will create 3 classes for each component which will be instantiated later to make the mode"
      ],
      "id": "4604f397"
    },
    {
      "cell_type": "code",
      "execution_count": null,
      "metadata": {
        "id": "603c8888"
      },
      "outputs": [],
      "source": [
        "#We opted to use 8 filters instead of the 32 specified by paper because it was possible our local machine or colab might not be able to train the model as effectively.\n",
        "class decompose(nn.Module):\n",
        "    def __init__(self, filters=32, activation='relu',kernel_size=3):\n",
        "        super().__init__()\n",
        "        #declaring layers as fields of DeComposition network class\n",
        "        self.conv_input = Conv2d(3, filters,kernel_size=3,padding=1)\n",
        "        self.maxpool_r1 = MaxPool2d(kernel_size=2,stride=2)\n",
        "        self.conv_r1 = Conv2d(filters, filters*2,kernel_size=3,padding=1)\n",
        "        self.maxpool_r2 = MaxPool2d(kernel_size=2,stride=2)\n",
        "        self.conv_r2 = Conv2d(filters*2, filters*4,kernel_size=3,padding=1)\n",
        "        self.deconv_r1 = ConvTranspose2d(filters*4, filters*2,kernel_size=2,padding=0,stride=2)\n",
        "        #self.concat_r1 = concat()\n",
        "        self.conv_r3 = Conv2d(filters*2, filters*2,kernel_size=3,padding=1)\n",
        "        self.deconv_r2 = ConvTranspose2d(filters*2, filters,kernel_size=2,padding=0,stride=2)\n",
        "        #self.concat_r2 = concat()\n",
        "        self.conv_r4 = Conv2d(filters, filters,kernel_size=3,padding=1)\n",
        "        self.conv_r5 = nn.Conv2d(filters, 3, kernel_size=3, padding=1)\n",
        "        self.R_out = nn.Sigmoid()\n",
        "\n",
        "        self.conv_i1 = Conv2d(filters, filters,kernel_size=3,padding=1)\n",
        "        #self.concat_i1 = concat()\n",
        "        self.conv_i2 = nn.Conv2d(filters, 1, kernel_size=3, padding=1)\n",
        "        self.I_out = nn.Sigmoid()\n",
        "        \n",
        "        \n",
        "    def forward(self, x):\n",
        "        conv_input = self.conv_input(x)\n",
        "        #Reflectance component R\n",
        "        maxpool_r1 = self.maxpool_r1(conv_input)\n",
        "        conv_r1 = self.conv_r1(maxpool_r1)\n",
        "        maxpool_r2 = self.maxpool_r2(conv_r1)\n",
        "        conv_r2 = self.conv_r2(maxpool_r2)\n",
        "        deconv_r1 = self.deconv_r1(conv_r2)\n",
        "        #concat_r1 = self.concat_r1(conv_r1, deconv_r1)\n",
        "        conv_r3 = self.conv_r3(deconv_r1)\n",
        "        deconv_r2 = self.deconv_r2(conv_r3)\n",
        "        #concat_r2 = self.concat_r2(conv_input, deconv_r2)\n",
        "        conv_r4 = self.conv_r4(deconv_r2)\n",
        "        conv_r5 = self.conv_r5(conv_r4)\n",
        "        R_out = self.R_out(conv_r5)\n",
        "        # Illumination component I\n",
        "        conv_i1 = self.conv_i1(conv_input)\n",
        "        #concat_i1 = self.concat_i1(conv_r4, conv_i1)\n",
        "        conv_i2 = self.conv_i2(conv_i1)\n",
        "        I_out = self.I_out(conv_i2)\n",
        "        return I_out,R_out\n",
        "        #final output image will just be = I*R where * is pixel by pixel multiplication."
      ],
      "id": "603c8888"
    },
    {
      "cell_type": "code",
      "execution_count": null,
      "metadata": {
        "id": "be8f613d"
      },
      "outputs": [],
      "source": [
        "class Illum_adjust(nn.Module):\n",
        "    def __init__(self, filters=8, activation='lrelu',kernel_size = 3):\n",
        "        super().__init__()\n",
        "        # bottom path build Illumination map\n",
        "        self.conv_i1 = Conv2d(2, filters,kernel_size = 3)\n",
        "        self.conv_i2 = Conv2d(filters, filters,kernel_size = 3)\n",
        "        self.conv_i3 = Conv2d(filters, filters,kernel_size = 3)\n",
        "        self.conv_i4 = nn.Conv2d(filters, 1, kernel_size=3, padding=1)\n",
        "        self.I_out = nn.Sigmoid()\n",
        "\n",
        "    def forward(self, I, ratio):\n",
        "        with torch.no_grad():\n",
        "            ratio_map = torch.ones_like(I) * ratio\n",
        "        concat_input = concat((I, ratio_map))        \n",
        "        # build Illumination map\n",
        "        conv_i1 = self.conv_i1(concat_input)\n",
        "        conv_i2 = self.conv_i2(conv_i1)\n",
        "        conv_i3 = self.conv_i3(conv_i2)\n",
        "        conv_i4 = self.conv_i4(conv_i3)\n",
        "        I_out = self.I_out(conv_i4)\n",
        "\n",
        "        return I_out"
      ],
      "id": "be8f613d"
    },
    {
      "cell_type": "code",
      "execution_count": null,
      "metadata": {
        "id": "3da5bba3"
      },
      "outputs": [],
      "source": [
        "class final_network(nn.Module):\n",
        "    def __init__(self, filters=8, activation='lrelu',kernel_size = 3):\n",
        "        super().__init__()\n",
        "        self.decomposition = decompose()\n",
        "        self.illumAdjust = Illum_adjust()\n",
        "    \n",
        "    def forward(self, L, ratio):\n",
        "        R, I = self.decompose(L)\n",
        "        I1 = self.illum_adjust(I,ratio)\n",
        "        I1_3 = torch.cat([I1,I1,I1],dim=1)\n",
        "        output = I1_3*R\n",
        "        return R, I1_3, output"
      ],
      "id": "3da5bba3"
    },
    {
      "cell_type": "code",
      "execution_count": null,
      "metadata": {
        "id": "YyxBtkz9BAV3"
      },
      "outputs": [],
      "source": [
        "import torch\n",
        "from torch import reshape\n",
        "from torchvision import transforms\n",
        "convert_tensor = transforms.ToTensor()\n",
        "def training_decompose(model):\n",
        "  px = \"drive/MyDrive/DL dataset\"\n",
        "  py = \"drive/MyDrive/DL dataset/Label\"\n",
        "  optimizer = optim.SGD(model.parameters(), lr=0.001, momentum=0.9)\n",
        "  criterion = MSELoss()\n",
        "  running_loss = 0\n",
        "  total = 0\n",
        "  correct = 0\n",
        "  for epoch in range(50):\n",
        "    print('\\nEpoch : %d'%epoch)\n",
        "    for i in range(1,321,1):\n",
        "      optimizer.zero_grad()\n",
        "      x1 = \"x\"+ str(i)+\".JPG\"\n",
        "      y1 = str(i)+\".JPG\"\n",
        "      tenx = convert_tensor(Image.open(os.path.join(px,str(i),x1)))\n",
        "      teny = convert_tensor(Image.open(os.path.join(py,y1)))\n",
        "      IL,RL = model(tenx)\n",
        "      IH,RH = model(teny)\n",
        "      loss = criterion(IH,IL)\n",
        "      loss.backward()\n",
        "      optimizer.step()\n",
        "      running_loss += loss.item()\n"
      ],
      "id": "YyxBtkz9BAV3"
    },
    {
      "cell_type": "code",
      "source": [
        "import torchvision\n",
        "print(torchvision.__version__)"
      ],
      "metadata": {
        "id": "CmEVnGcg-v0w"
      },
      "id": "CmEVnGcg-v0w",
      "execution_count": null,
      "outputs": []
    },
    {
      "cell_type": "code",
      "source": [
        "import torch\n",
        "from torch import reshape\n",
        "from torchvision import transforms\n",
        "convert_tensor = transforms.ToTensor()\n",
        "def training_illum(model):\n",
        "  px = \"drive/MyDrive/DL dataset\"\n",
        "  py = \"drive/MyDrive/DL dataset/Label\"\n",
        "  optimizer = optim.SGD(model.parameters(), lr=0.001, momentum=0.9)\n",
        "  criterion = MSELoss()\n",
        "  for epoch in range(50):\n",
        "    print('\\nEpoch : %d'%epoch)\n",
        "    for i in range(1,321,1):\n",
        "      optimizer.zero_grad()\n",
        "      x1 = \"x\"+ str(i)+\".JPG\"\n",
        "      y1 = str(i)+\".JPG\"\n",
        "      tenx = convert_tensor(Image.open(os.path.join(px,str(i),x1)))\n",
        "      teny = convert_tensor(Image.open(os.path.join(py,y1)))\n",
        "      IL = model(tenx,0.5)\n",
        "      IH = model(teny,0.5)\n",
        "      loss = criterion(IH,IL)\n",
        "      loss.backward()\n",
        "      optimizer.step()\n",
        "      running_loss += loss.item()"
      ],
      "metadata": {
        "id": "VMC9jpoZymm0"
      },
      "id": "VMC9jpoZymm0",
      "execution_count": null,
      "outputs": []
    },
    {
      "cell_type": "code",
      "execution_count": null,
      "metadata": {
        "id": "_6Hd1sexC6XC"
      },
      "outputs": [],
      "source": [
        "decom = decompose()\n",
        "illum = Illum_adjust()"
      ],
      "id": "_6Hd1sexC6XC"
    },
    {
      "cell_type": "code",
      "execution_count": null,
      "metadata": {
        "id": "NLlCje3DDxhY"
      },
      "outputs": [],
      "source": [
        "training_decompose(decom)"
      ],
      "id": "NLlCje3DDxhY"
    },
    {
      "cell_type": "code",
      "source": [
        "training_illum(illum)"
      ],
      "metadata": {
        "id": "AvQzcto5-NMk"
      },
      "id": "AvQzcto5-NMk",
      "execution_count": null,
      "outputs": []
    },
    {
      "cell_type": "code",
      "source": [
        "final = final_network()\n",
        "px = \"drive/MyDrive/DL dataset\"\n",
        "py = \"drive/MyDrive/DL dataset/Label\"\n",
        "x = \"x\"+ str(5)+\".JPG\"\n",
        "y = str(5)+\".JPG\"\n",
        "x1 = os.path.join(px,str(5),x)\n",
        "y1 = os.path.join(py,y)\n",
        "final(x1,0.5)"
      ],
      "metadata": {
        "id": "QLlCutn8AkWp"
      },
      "id": "QLlCutn8AkWp",
      "execution_count": null,
      "outputs": []
    },
    {
      "cell_type": "code",
      "source": [],
      "metadata": {
        "id": "ELtLhNhuHGFp"
      },
      "id": "ELtLhNhuHGFp",
      "execution_count": null,
      "outputs": []
    }
  ],
  "metadata": {
    "accelerator": "GPU",
    "colab": {
      "name": "model.ipynb",
      "provenance": [],
      "include_colab_link": true
    },
    "kernelspec": {
      "display_name": "Python 3 (ipykernel)",
      "language": "python",
      "name": "python3"
    },
    "language_info": {
      "codemirror_mode": {
        "name": "ipython",
        "version": 3
      },
      "file_extension": ".py",
      "mimetype": "text/x-python",
      "name": "python",
      "nbconvert_exporter": "python",
      "pygments_lexer": "ipython3",
      "version": "3.9.7"
    }
  },
  "nbformat": 4,
  "nbformat_minor": 5
}